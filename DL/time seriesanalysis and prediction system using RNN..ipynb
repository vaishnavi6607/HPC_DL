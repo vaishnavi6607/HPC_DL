{
 "cells": [
  {
   "cell_type": "code",
   "execution_count": 1,
   "id": "dd24704e",
   "metadata": {},
   "outputs": [
    {
     "name": "stdout",
     "output_type": "stream",
     "text": [
      "WARNING:tensorflow:From C:\\Users\\VAISHNAVI-PC\\AppData\\Roaming\\Python\\Python39\\site-packages\\keras\\src\\losses.py:2976: The name tf.losses.sparse_softmax_cross_entropy is deprecated. Please use tf.compat.v1.losses.sparse_softmax_cross_entropy instead.\n",
      "\n"
     ]
    }
   ],
   "source": [
    "import numpy as np\n",
    "import pandas as pd\n",
    "import matplotlib.pyplot as plt\n",
    "from sklearn.preprocessing import MinMaxScaler\n",
    "from tensorflow.keras.models import Sequential\n",
    "from tensorflow.keras.layers import LSTM, Dense, Dropout\n",
    "from sklearn.metrics import mean_squared_error"
   ]
  },
  {
   "cell_type": "code",
   "execution_count": 2,
   "id": "08e3de81",
   "metadata": {},
   "outputs": [],
   "source": [
    "data = pd.read_csv('GOOG.csv')"
   ]
  },
  {
   "cell_type": "code",
   "execution_count": 3,
   "id": "c2cd6b51",
   "metadata": {},
   "outputs": [],
   "source": [
    "data_copy = data.copy()\n",
    "\n",
    "data_copy.dropna(inplace=True)\n",
    "\n",
    "selected_features = ['Open', 'High', 'Low', 'Close', 'Adj Close', 'Volume']\n",
    "data_copy = data_copy[selected_features]\n",
    "\n",
    "scaler = MinMaxScaler()\n",
    "scaled_data = scaler.fit_transform(data_copy)"
   ]
  },
  {
   "cell_type": "code",
   "execution_count": 4,
   "id": "02c8f29e",
   "metadata": {},
   "outputs": [
    {
     "data": {
      "text/html": [
       "<div>\n",
       "<style scoped>\n",
       "    .dataframe tbody tr th:only-of-type {\n",
       "        vertical-align: middle;\n",
       "    }\n",
       "\n",
       "    .dataframe tbody tr th {\n",
       "        vertical-align: top;\n",
       "    }\n",
       "\n",
       "    .dataframe thead th {\n",
       "        text-align: right;\n",
       "    }\n",
       "</style>\n",
       "<table border=\"1\" class=\"dataframe\">\n",
       "  <thead>\n",
       "    <tr style=\"text-align: right;\">\n",
       "      <th></th>\n",
       "      <th>Date</th>\n",
       "      <th>Open</th>\n",
       "      <th>High</th>\n",
       "      <th>Low</th>\n",
       "      <th>Close</th>\n",
       "      <th>Adj Close</th>\n",
       "      <th>Volume</th>\n",
       "    </tr>\n",
       "  </thead>\n",
       "  <tbody>\n",
       "    <tr>\n",
       "      <th>0</th>\n",
       "      <td>2004-08-19</td>\n",
       "      <td>2.490664</td>\n",
       "      <td>2.591785</td>\n",
       "      <td>2.390042</td>\n",
       "      <td>2.499133</td>\n",
       "      <td>2.499133</td>\n",
       "      <td>897427216</td>\n",
       "    </tr>\n",
       "    <tr>\n",
       "      <th>1</th>\n",
       "      <td>2004-08-20</td>\n",
       "      <td>2.515820</td>\n",
       "      <td>2.716817</td>\n",
       "      <td>2.503118</td>\n",
       "      <td>2.697639</td>\n",
       "      <td>2.697639</td>\n",
       "      <td>458857488</td>\n",
       "    </tr>\n",
       "    <tr>\n",
       "      <th>2</th>\n",
       "      <td>2004-08-23</td>\n",
       "      <td>2.758411</td>\n",
       "      <td>2.826406</td>\n",
       "      <td>2.716070</td>\n",
       "      <td>2.724787</td>\n",
       "      <td>2.724787</td>\n",
       "      <td>366857939</td>\n",
       "    </tr>\n",
       "    <tr>\n",
       "      <th>3</th>\n",
       "      <td>2004-08-24</td>\n",
       "      <td>2.770615</td>\n",
       "      <td>2.779581</td>\n",
       "      <td>2.579581</td>\n",
       "      <td>2.611960</td>\n",
       "      <td>2.611960</td>\n",
       "      <td>306396159</td>\n",
       "    </tr>\n",
       "    <tr>\n",
       "      <th>4</th>\n",
       "      <td>2004-08-25</td>\n",
       "      <td>2.614201</td>\n",
       "      <td>2.689918</td>\n",
       "      <td>2.587302</td>\n",
       "      <td>2.640104</td>\n",
       "      <td>2.640104</td>\n",
       "      <td>184645512</td>\n",
       "    </tr>\n",
       "  </tbody>\n",
       "</table>\n",
       "</div>"
      ],
      "text/plain": [
       "         Date      Open      High       Low     Close  Adj Close     Volume\n",
       "0  2004-08-19  2.490664  2.591785  2.390042  2.499133   2.499133  897427216\n",
       "1  2004-08-20  2.515820  2.716817  2.503118  2.697639   2.697639  458857488\n",
       "2  2004-08-23  2.758411  2.826406  2.716070  2.724787   2.724787  366857939\n",
       "3  2004-08-24  2.770615  2.779581  2.579581  2.611960   2.611960  306396159\n",
       "4  2004-08-25  2.614201  2.689918  2.587302  2.640104   2.640104  184645512"
      ]
     },
     "execution_count": 4,
     "metadata": {},
     "output_type": "execute_result"
    }
   ],
   "source": [
    "df = pd.DataFrame(data)\n",
    "df.head()"
   ]
  },
  {
   "cell_type": "code",
   "execution_count": 5,
   "id": "af999a1f",
   "metadata": {},
   "outputs": [
    {
     "name": "stdout",
     "output_type": "stream",
     "text": [
      "Missing Values:\n",
      " Date         0\n",
      "Open         0\n",
      "High         0\n",
      "Low          0\n",
      "Close        0\n",
      "Adj Close    0\n",
      "Volume       0\n",
      "dtype: int64\n"
     ]
    }
   ],
   "source": [
    "missing_values = df.isnull().sum()\n",
    "print(\"Missing Values:\\n\", missing_values)"
   ]
  },
  {
   "cell_type": "code",
   "execution_count": 6,
   "id": "fb57ce6e",
   "metadata": {},
   "outputs": [
    {
     "name": "stdout",
     "output_type": "stream",
     "text": [
      "Dataset shape: (4858, 7)\n",
      "Columns: Index(['Date', 'Open', 'High', 'Low', 'Close', 'Adj Close', 'Volume'], dtype='object')\n",
      "<class 'pandas.core.frame.DataFrame'>\n",
      "RangeIndex: 4858 entries, 0 to 4857\n",
      "Data columns (total 7 columns):\n",
      " #   Column     Non-Null Count  Dtype  \n",
      "---  ------     --------------  -----  \n",
      " 0   Date       4858 non-null   object \n",
      " 1   Open       4858 non-null   float64\n",
      " 2   High       4858 non-null   float64\n",
      " 3   Low        4858 non-null   float64\n",
      " 4   Close      4858 non-null   float64\n",
      " 5   Adj Close  4858 non-null   float64\n",
      " 6   Volume     4858 non-null   int64  \n",
      "dtypes: float64(5), int64(1), object(1)\n",
      "memory usage: 265.8+ KB\n",
      "Info:\n",
      " None\n",
      "Summary statistics:\n",
      "               Open         High          Low        Close    Adj Close  \\\n",
      "count  4858.000000  4858.000000  4858.000000  4858.000000  4858.000000   \n",
      "mean     41.477174    41.917059    41.055491    41.494404    41.494404   \n",
      "std      38.590695    39.031758    38.193016    38.618107    38.618107   \n",
      "min       2.470490     2.534002     2.390042     2.490913     2.490913   \n",
      "25%      12.846597    12.954195    12.712414    12.834642    12.834642   \n",
      "50%      26.499958    26.728268    26.289323    26.537501    26.537501   \n",
      "75%      57.367250    58.028500    56.962251    57.611249    57.611249   \n",
      "max     151.863495   152.100006   149.887497   150.709000   150.709000   \n",
      "\n",
      "             Volume  \n",
      "count  4.858000e+03  \n",
      "mean   1.189152e+08  \n",
      "std    1.512424e+08  \n",
      "min    1.584340e+05  \n",
      "25%    2.854912e+07  \n",
      "50%    6.168836e+07  \n",
      "75%    1.467329e+08  \n",
      "max    1.650833e+09  \n"
     ]
    }
   ],
   "source": [
    "print(\"Dataset shape:\", df.shape)\n",
    "print(\"Columns:\", df.columns)\n",
    "print(\"Info:\\n\", df.info())\n",
    "print(\"Summary statistics:\\n\", df.describe())"
   ]
  },
  {
   "cell_type": "code",
   "execution_count": 7,
   "id": "1de830cc",
   "metadata": {},
   "outputs": [
    {
     "data": {
      "image/png": "[encoded data removed]",
      "text/plain": [
       "<Figure size 1400x600 with 1 Axes>"
      ]
     },
     "metadata": {},
     "output_type": "display_data"
    }
   ],
   "source": [
    "plt.figure(figsize=(14, 6))\n",
    "plt.plot(data['Close'], label='Close Price')\n",
    "plt.title('Google Stock Prices (2016-2021)')\n",
    "plt.xlabel('Date')\n",
    "plt.ylabel('Price')\n",
    "plt.legend()\n",
    "plt.show()"
   ]
  },
  {
   "cell_type": "code",
   "execution_count": 8,
   "id": "457f1bb8",
   "metadata": {},
   "outputs": [
    {
     "data": {
      "text/html": [
       "<div>\n",
       "<style scoped>\n",
       "    .dataframe tbody tr th:only-of-type {\n",
       "        vertical-align: middle;\n",
       "    }\n",
       "\n",
       "    .dataframe tbody tr th {\n",
       "        vertical-align: top;\n",
       "    }\n",
       "\n",
       "    .dataframe thead th {\n",
       "        text-align: right;\n",
       "    }\n",
       "</style>\n",
       "<table border=\"1\" class=\"dataframe\">\n",
       "  <thead>\n",
       "    <tr style=\"text-align: right;\">\n",
       "      <th></th>\n",
       "      <th>Date</th>\n",
       "      <th>Open</th>\n",
       "      <th>High</th>\n",
       "      <th>Low</th>\n",
       "      <th>Close</th>\n",
       "      <th>Adj Close</th>\n",
       "      <th>Volume</th>\n",
       "    </tr>\n",
       "  </thead>\n",
       "  <tbody>\n",
       "    <tr>\n",
       "      <th>0</th>\n",
       "      <td>2004-08-19 00:00:00+00:00</td>\n",
       "      <td>2.490664</td>\n",
       "      <td>2.591785</td>\n",
       "      <td>2.390042</td>\n",
       "      <td>2.499133</td>\n",
       "      <td>2.499133</td>\n",
       "      <td>897427216</td>\n",
       "    </tr>\n",
       "    <tr>\n",
       "      <th>1</th>\n",
       "      <td>2004-08-20 00:00:00+00:00</td>\n",
       "      <td>2.515820</td>\n",
       "      <td>2.716817</td>\n",
       "      <td>2.503118</td>\n",
       "      <td>2.697639</td>\n",
       "      <td>2.697639</td>\n",
       "      <td>458857488</td>\n",
       "    </tr>\n",
       "    <tr>\n",
       "      <th>2</th>\n",
       "      <td>2004-08-23 00:00:00+00:00</td>\n",
       "      <td>2.758411</td>\n",
       "      <td>2.826406</td>\n",
       "      <td>2.716070</td>\n",
       "      <td>2.724787</td>\n",
       "      <td>2.724787</td>\n",
       "      <td>366857939</td>\n",
       "    </tr>\n",
       "    <tr>\n",
       "      <th>3</th>\n",
       "      <td>2004-08-24 00:00:00+00:00</td>\n",
       "      <td>2.770615</td>\n",
       "      <td>2.779581</td>\n",
       "      <td>2.579581</td>\n",
       "      <td>2.611960</td>\n",
       "      <td>2.611960</td>\n",
       "      <td>306396159</td>\n",
       "    </tr>\n",
       "    <tr>\n",
       "      <th>4</th>\n",
       "      <td>2004-08-25 00:00:00+00:00</td>\n",
       "      <td>2.614201</td>\n",
       "      <td>2.689918</td>\n",
       "      <td>2.587302</td>\n",
       "      <td>2.640104</td>\n",
       "      <td>2.640104</td>\n",
       "      <td>184645512</td>\n",
       "    </tr>\n",
       "  </tbody>\n",
       "</table>\n",
       "</div>"
      ],
      "text/plain": [
       "                       Date      Open      High       Low     Close  \\\n",
       "0 2004-08-19 00:00:00+00:00  2.490664  2.591785  2.390042  2.499133   \n",
       "1 2004-08-20 00:00:00+00:00  2.515820  2.716817  2.503118  2.697639   \n",
       "2 2004-08-23 00:00:00+00:00  2.758411  2.826406  2.716070  2.724787   \n",
       "3 2004-08-24 00:00:00+00:00  2.770615  2.779581  2.579581  2.611960   \n",
       "4 2004-08-25 00:00:00+00:00  2.614201  2.689918  2.587302  2.640104   \n",
       "\n",
       "   Adj Close     Volume  \n",
       "0   2.499133  897427216  \n",
       "1   2.697639  458857488  \n",
       "2   2.724787  366857939  \n",
       "3   2.611960  306396159  \n",
       "4   2.640104  184645512  "
      ]
     },
     "execution_count": 8,
     "metadata": {},
     "output_type": "execute_result"
    }
   ],
   "source": [
    "df['Date'] = pd.to_datetime(df['Date'], utc=True)\n",
    "df.head()"
   ]
  },
  {
   "cell_type": "code",
   "execution_count": 9,
   "id": "b0494166",
   "metadata": {},
   "outputs": [],
   "source": [
    "def prepare_data(data, time_steps):\n",
    "    X, y = [], []\n",
    "    for i in range(len(data) - time_steps):\n",
    "        X.append(data[i:(i + time_steps)])\n",
    "        y.append(data[i + time_steps])\n",
    "    return np.array(X), np.array(y)\n",
    "\n",
    "time_steps = 60  \n",
    "\n",
    "X, y = prepare_data(scaled_data, time_steps)"
   ]
  },
  {
   "cell_type": "code",
   "execution_count": 10,
   "id": "2a394cff",
   "metadata": {},
   "outputs": [],
   "source": [
    "split_ratio = 0.8  # Train-test split ratio\n",
    "split_index = int(split_ratio * len(X))\n",
    "X_train, X_test = X[:split_index], X[split_index:]\n",
    "y_train, y_test = y[:split_index], y[split_index:]"
   ]
  },
  {
   "cell_type": "code",
   "execution_count": 11,
   "id": "a8b55d8f",
   "metadata": {},
   "outputs": [
    {
     "name": "stdout",
     "output_type": "stream",
     "text": [
      "WARNING:tensorflow:From C:\\Users\\VAISHNAVI-PC\\AppData\\Roaming\\Python\\Python39\\site-packages\\keras\\src\\layers\\rnn\\lstm.py:148: The name tf.executing_eagerly_outside_functions is deprecated. Please use tf.compat.v1.executing_eagerly_outside_functions instead.\n",
      "\n",
      "WARNING:tensorflow:From C:\\Users\\VAISHNAVI-PC\\AppData\\Roaming\\Python\\Python39\\site-packages\\keras\\src\\optimizers\\__init__.py:309: The name tf.train.Optimizer is deprecated. Please use tf.compat.v1.train.Optimizer instead.\n",
      "\n",
      "Model: \"sequential\"\n",
      "_________________________________________________________________\n",
      " Layer (type)                Output Shape              Param #   \n",
      "=================================================================\n",
      " lstm (LSTM)                 (None, 60, 100)           42800     \n",
      "                                                                 \n",
      " dropout (Dropout)           (None, 60, 100)           0         \n",
      "                                                                 \n",
      " lstm_1 (LSTM)               (None, 60, 100)           80400     \n",
      "                                                                 \n",
      " dropout_1 (Dropout)         (None, 60, 100)           0         \n",
      "                                                                 \n",
      " lstm_2 (LSTM)               (None, 100)               80400     \n",
      "                                                                 \n",
      " dropout_2 (Dropout)         (None, 100)               0         \n",
      "                                                                 \n",
      " dense (Dense)               (None, 6)                 606       \n",
      "                                                                 \n",
      "=================================================================\n",
      "Total params: 204206 (797.68 KB)\n",
      "Trainable params: 204206 (797.68 KB)\n",
      "Non-trainable params: 0 (0.00 Byte)\n",
      "_________________________________________________________________\n",
      "None\n"
     ]
    }
   ],
   "source": [
    "model = Sequential([\n",
    "    LSTM(units=100, return_sequences=True, input_shape=(X_train.shape[1], X_train.shape[2])),\n",
    "    Dropout(0.2),\n",
    "    LSTM(units=100, return_sequences=True),\n",
    "    Dropout(0.2),\n",
    "    LSTM(units=100),\n",
    "    Dropout(0.2),\n",
    "    Dense(units=len(selected_features))\n",
    "])\n",
    "\n",
    "# Compile model\n",
    "model.compile(optimizer='adam', loss='mean_squared_error',metrics=['accuracy'])\n",
    "\n",
    "# Display model\n",
    "print(model.summary())"
   ]
  },
  {
   "cell_type": "code",
   "execution_count": null,
   "id": "34c22e5c",
   "metadata": {},
   "outputs": [
    {
     "name": "stdout",
     "output_type": "stream",
     "text": [
      "Epoch 1/20\n",
      "WARNING:tensorflow:From C:\\Users\\VAISHNAVI-PC\\AppData\\Roaming\\Python\\Python39\\site-packages\\keras\\src\\utils\\tf_utils.py:492: The name tf.ragged.RaggedTensorValue is deprecated. Please use tf.compat.v1.ragged.RaggedTensorValue instead.\n",
      "\n",
      "WARNING:tensorflow:From C:\\Users\\VAISHNAVI-PC\\AppData\\Roaming\\Python\\Python39\\site-packages\\keras\\src\\engine\\base_layer_utils.py:384: The name tf.executing_eagerly_outside_functions is deprecated. Please use tf.compat.v1.executing_eagerly_outside_functions instead.\n",
      "\n",
      "120/120 [==============================] - 13s 78ms/step - loss: 0.0022 - accuracy: 0.4195\n",
      "Epoch 2/20\n",
      "120/120 [==============================] - 9s 74ms/step - loss: 0.0011 - accuracy: 0.4416\n",
      "Epoch 3/20\n",
      "120/120 [==============================] - 12s 98ms/step - loss: 9.2547e-04 - accuracy: 0.4536\n",
      "Epoch 4/20\n",
      "120/120 [==============================] - 12s 97ms/step - loss: 8.9224e-04 - accuracy: 0.4539\n",
      "Epoch 5/20\n",
      "120/120 [==============================] - 12s 103ms/step - loss: 8.2397e-04 - accuracy: 0.4640\n",
      "Epoch 6/20\n",
      "120/120 [==============================] - 12s 98ms/step - loss: 7.9657e-04 - accuracy: 0.4591\n",
      "Epoch 7/20\n",
      "120/120 [==============================] - 11s 93ms/step - loss: 7.6506e-04 - accuracy: 0.4578\n",
      "Epoch 8/20\n",
      "120/120 [==============================] - 11s 93ms/step - loss: 7.3659e-04 - accuracy: 0.4591\n",
      "Epoch 9/20\n",
      "120/120 [==============================] - 11s 93ms/step - loss: 7.4974e-04 - accuracy: 0.4518\n",
      "Epoch 10/20\n",
      "120/120 [==============================] - 11s 93ms/step - loss: 6.9993e-04 - accuracy: 0.4640\n",
      "Epoch 11/20\n",
      "120/120 [==============================] - 11s 94ms/step - loss: 6.7601e-04 - accuracy: 0.4500\n",
      "Epoch 12/20\n",
      "120/120 [==============================] - 11s 96ms/step - loss: 6.6674e-04 - accuracy: 0.4604\n",
      "Epoch 13/20\n",
      "120/120 [==============================] - 11s 94ms/step - loss: 6.5918e-04 - accuracy: 0.4643\n",
      "Epoch 14/20\n",
      "120/120 [==============================] - 11s 94ms/step - loss: 6.4904e-04 - accuracy: 0.4656\n",
      "Epoch 15/20\n",
      "120/120 [==============================] - 12s 98ms/step - loss: 6.3904e-04 - accuracy: 0.4534\n",
      "Epoch 16/20\n",
      "120/120 [==============================] - 12s 100ms/step - loss: 6.2022e-04 - accuracy: 0.4560\n",
      "Epoch 17/20\n",
      "120/120 [==============================] - 11s 95ms/step - loss: 5.9864e-04 - accuracy: 0.4591\n",
      "Epoch 18/20\n",
      "120/120 [==============================] - 11s 92ms/step - loss: 6.1537e-04 - accuracy: 0.4614\n",
      "Epoch 19/20\n",
      "120/120 [==============================] - 11s 93ms/step - loss: 6.0633e-04 - accuracy: 0.4591\n",
      "Epoch 20/20\n",
      " 60/120 [==============>...............] - ETA: 5s - loss: 6.5921e-04 - accuracy: 0.4495"
     ]
    }
   ],
   "source": [
    "epochs = 20 \n",
    "\n",
    "history = model.fit(X_train, y_train, epochs=epochs, batch_size=32, verbose=1)"
   ]
  },
  {
   "cell_type": "code",
   "execution_count": null,
   "id": "d0920878",
   "metadata": {},
   "outputs": [],
   "source": [
    "loss = history.history['loss']\n",
    "\n",
    "epochs = range(len(loss))\n",
    "\n",
    "plt.plot(epochs, loss, 'r', label='Training loss')\n",
    "\n",
    "plt.title('Training loss', size=15, weight='bold')\n",
    "plt.legend(loc=0)\n",
    "plt.figure()\n",
    "\n",
    "plt.show()\n",
    "#model evaluasi\n",
    "train_loss = model.evaluate(X_train, y_train, verbose=0)\n",
    "test_loss = model.evaluate(X_test, y_test, verbose=0)\n",
    "\n",
    "print(f\"Train Loss: {train_loss}\")\n",
    "print(f\"Test Loss: {test_loss}\")"
   ]
  },
  {
   "cell_type": "code",
   "execution_count": null,
   "id": "930eb999",
   "metadata": {},
   "outputs": [],
   "source": [
    "predictions = model.predict(X_test)\n",
    "predictions = scaler.inverse_transform(predictions)\n",
    "y_test_inverse = scaler.inverse_transform(y_test)\n",
    "\n",
    "# prediksi vs aktual\n",
    "plt.figure(figsize=(10, 6))\n",
    "plt.plot(predictions[:,3], label='Predicted Close Price', color='r')\n",
    "plt.plot(y_test_inverse[:,3], label='Actual Close Price', color='b')\n",
    "plt.title('Google Stock Price Prediction')\n",
    "plt.xlabel('Time')\n",
    "plt.ylabel('Price')\n",
    "plt.legend()\n",
    "plt.show()"
   ]
  },
  {
   "cell_type": "code",
   "execution_count": null,
   "id": "bd50ce16",
   "metadata": {},
   "outputs": [],
   "source": []
  }
 ],
 "metadata": {
  "kernelspec": {
   "display_name": "Python 3 (ipykernel)",
   "language": "python",
   "name": "python3"
  },
  "language_info": {
   "codemirror_mode": {
    "name": "ipython",
    "version": 3
   },
   "file_extension": ".py",
   "mimetype": "text/x-python",
   "name": "python",
   "nbconvert_exporter": "python",
   "pygments_lexer": "ipython3",
   "version": "3.9.13"
  }
 },
 "nbformat": 4,
 "nbformat_minor": 5
}
